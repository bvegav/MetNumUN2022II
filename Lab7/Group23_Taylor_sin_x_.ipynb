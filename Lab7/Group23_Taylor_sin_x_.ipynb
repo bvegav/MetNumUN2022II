{
  "nbformat": 4,
  "nbformat_minor": 0,
  "metadata": {
    "colab": {
      "provenance": [],
      "authorship_tag": "ABX9TyPCaLbkom3ayUFwXkK3HgdF",
      "include_colab_link": true
    },
    "kernelspec": {
      "name": "python3",
      "display_name": "Python 3"
    },
    "language_info": {
      "name": "python"
    }
  },
  "cells": [
    {
      "cell_type": "markdown",
      "metadata": {
        "id": "view-in-github",
        "colab_type": "text"
      },
      "source": [
        "<a href=\"https://colab.research.google.com/github/bvegav/MetNumUN2022II/blob/main/Lab7/Group23_Taylor_sin_x_.ipynb\" target=\"_parent\"><img src=\"https://colab.research.google.com/assets/colab-badge.svg\" alt=\"Open In Colab\"/></a>"
      ]
    },
    {
      "cell_type": "markdown",
      "source": [
        "## Taylor series of $sin(x)$\n",
        "\n",
        "$$ sin(x) = \\sum_{n=0}^{\\infty} (-1)^{n} \\frac{x^{1+2i}}{(1+2i)!} $$"
      ],
      "metadata": {
        "id": "k4ZAdsallIPo"
      }
    },
    {
      "cell_type": "markdown",
      "source": [
        "```python\n",
        "# Interact Taylor Series of $$f(x) = sin(x)$$\n",
        "# Explanatory example: Taylor Series – wiki.sagemath.org/interact https://wiki.sagemath.org/interact\n",
        "x   = SR.var('x')\n",
        "x0  = 0\n",
        "f   = sin(x)\n",
        "p   = plot(f, -20, 20, thickness=2)\n",
        "dot = point((x0, f(x=x0)), pointsize=80, rgbcolor=(1, 0, 0))\n",
        "\n",
        "@interact\n",
        "def _(order=slider([0 .. 12])):\n",
        "  ft = f.taylor(x, x0, order)\n",
        "  pt = plot(ft, -20, 20, color='green', thickness=2)\n",
        "  pretty_print(html(r'$f(x)\\;=\\;%s$' % latex(f)))\n",
        "  pretty_print(html(r'$\\hat{f}(x;%s)\\;=\\;%s+\\mathcal{O}(x^{%s})$' % (x0, latex(ft), order+1)))\n",
        "  show(dot + p + pt, ymin=-1, ymax=10)\n",
        "\n",
        "# Animate  Taylor Series of $$f(x) = sin(x)$$\n",
        "# MCS 320: Introduction to Symbolic Computation - Jan Verschelde, Mathematics, U. Illinois at Chicago  –\n",
        "# http://homepages.math.uic.edu/~jan/mcs320/mcs320notes/lec27.html#\n",
        "x   = SR.var('x')\n",
        "x0  = 0\n",
        "f   = sin(x)\n",
        "p   = plot(f, -pi, pi, thickness=2,legend_label='f(x) = sin(x)')\n",
        "dot = point((x0, f(x=x0)), pointsize=80, rgbcolor=(1, 0, 0))\n",
        "ptaylor = [plot(f.taylor(x, x0, order), -pi,pi, color='green', thickness=2, legend_label= \"Taylor \" + str(order) +\": \"+ str(f.taylor(x, x0, order))) for order in range(5)]\n",
        "\n",
        "frames = [p+dot+ptaylor[int(order/12)] for order in range(60)]\n",
        "a = animate(frames, ymin=-10, ymax=10)\n",
        "a.show()\n",
        "a.save('sin(x)_taylor_animation_1.gif')\n",
        "```"
      ],
      "metadata": {
        "id": "OyIcDMnVo85L"
      }
    },
    {
      "cell_type": "markdown",
      "source": [
        "![Sage Image](https://github.com/icaseres/MetNumUN2021II/blob/main/Lab9/Imagenes/sin_x_taylor_animation_1.gif?raw=true)"
      ],
      "metadata": {
        "id": "wOrsc0_cSsbE"
      }
    },
    {
      "cell_type": "markdown",
      "source": [
        "What is value of the partial Taylor series of $sin(x)$ up to the  $n$-th term of $sin(x)$ about $0$ (Maclaurin  series) for $x=0.75$\n",
        "$$ sin(x) = \\sum_{n=0}^{\\infty} (-1)^{n} \\frac{x^{1+2i}}{(1+2i)!} $$"
      ],
      "metadata": {
        "id": "hISEUbOelNej"
      }
    },
    {
      "cell_type": "code",
      "source": [
        "# ∑_{i=1}^n  (-1)^(i) * x^(1+2*i) / (1+2*i)!\n",
        "import math\n",
        "\n",
        "n = 25\n",
        "x = 0.75\n",
        "sin_x = 0\n",
        "for i in range(n+1):\n",
        "    sin_x += (-1)**(i) * ( x ** (1+2*i) ) / math.factorial( 1+2*i ) \n",
        "    print('sin(x) ≈ ∑_{i=0}^'+str(i)+' (-1)^(i) * x^(1+2*i) / (1+2*i)!',' = ',sin_x )  \n",
        "print(\"sin_x = \",sin_x)\n",
        "print('math.sin(x) = ',math.sin(x))"
      ],
      "metadata": {
        "colab": {
          "base_uri": "https://localhost:8080/"
        },
        "id": "7UCc21lrlH3U",
        "outputId": "5e8a66db-a580-4730-9d83-565102fdb3b2"
      },
      "execution_count": null,
      "outputs": [
        {
          "output_type": "stream",
          "name": "stdout",
          "text": [
            "sin(x) ≈ ∑_{i=0}^0 (-1)^(i) * x^(1+2*i) / (1+2*i)!  =  0.75\n",
            "sin(x) ≈ ∑_{i=0}^1 (-1)^(i) * x^(1+2*i) / (1+2*i)!  =  0.6796875\n",
            "sin(x) ≈ ∑_{i=0}^2 (-1)^(i) * x^(1+2*i) / (1+2*i)!  =  0.6816650390625\n",
            "sin(x) ≈ ∑_{i=0}^3 (-1)^(i) * x^(1+2*i) / (1+2*i)!  =  0.6816385541643415\n",
            "sin(x) ≈ ∑_{i=0}^4 (-1)^(i) * x^(1+2*i) / (1+2*i)!  =  0.6816387610776083\n",
            "sin(x) ≈ ∑_{i=0}^5 (-1)^(i) * x^(1+2*i) / (1+2*i)!  =  0.6816387600195292\n",
            "sin(x) ≈ ∑_{i=0}^6 (-1)^(i) * x^(1+2*i) / (1+2*i)!  =  0.6816387600233443\n",
            "sin(x) ≈ ∑_{i=0}^7 (-1)^(i) * x^(1+2*i) / (1+2*i)!  =  0.6816387600233341\n",
            "sin(x) ≈ ∑_{i=0}^8 (-1)^(i) * x^(1+2*i) / (1+2*i)!  =  0.6816387600233341\n",
            "sin(x) ≈ ∑_{i=0}^9 (-1)^(i) * x^(1+2*i) / (1+2*i)!  =  0.6816387600233341\n",
            "sin(x) ≈ ∑_{i=0}^10 (-1)^(i) * x^(1+2*i) / (1+2*i)!  =  0.6816387600233341\n",
            "sin(x) ≈ ∑_{i=0}^11 (-1)^(i) * x^(1+2*i) / (1+2*i)!  =  0.6816387600233341\n",
            "sin(x) ≈ ∑_{i=0}^12 (-1)^(i) * x^(1+2*i) / (1+2*i)!  =  0.6816387600233341\n",
            "sin(x) ≈ ∑_{i=0}^13 (-1)^(i) * x^(1+2*i) / (1+2*i)!  =  0.6816387600233341\n",
            "sin(x) ≈ ∑_{i=0}^14 (-1)^(i) * x^(1+2*i) / (1+2*i)!  =  0.6816387600233341\n",
            "sin(x) ≈ ∑_{i=0}^15 (-1)^(i) * x^(1+2*i) / (1+2*i)!  =  0.6816387600233341\n",
            "sin(x) ≈ ∑_{i=0}^16 (-1)^(i) * x^(1+2*i) / (1+2*i)!  =  0.6816387600233341\n",
            "sin(x) ≈ ∑_{i=0}^17 (-1)^(i) * x^(1+2*i) / (1+2*i)!  =  0.6816387600233341\n",
            "sin(x) ≈ ∑_{i=0}^18 (-1)^(i) * x^(1+2*i) / (1+2*i)!  =  0.6816387600233341\n",
            "sin(x) ≈ ∑_{i=0}^19 (-1)^(i) * x^(1+2*i) / (1+2*i)!  =  0.6816387600233341\n",
            "sin(x) ≈ ∑_{i=0}^20 (-1)^(i) * x^(1+2*i) / (1+2*i)!  =  0.6816387600233341\n",
            "sin(x) ≈ ∑_{i=0}^21 (-1)^(i) * x^(1+2*i) / (1+2*i)!  =  0.6816387600233341\n",
            "sin(x) ≈ ∑_{i=0}^22 (-1)^(i) * x^(1+2*i) / (1+2*i)!  =  0.6816387600233341\n",
            "sin(x) ≈ ∑_{i=0}^23 (-1)^(i) * x^(1+2*i) / (1+2*i)!  =  0.6816387600233341\n",
            "sin(x) ≈ ∑_{i=0}^24 (-1)^(i) * x^(1+2*i) / (1+2*i)!  =  0.6816387600233341\n",
            "sin(x) ≈ ∑_{i=0}^25 (-1)^(i) * x^(1+2*i) / (1+2*i)!  =  0.6816387600233341\n",
            "sin_x =  0.6816387600233341\n",
            "math.sin(x) =  0.6816387600233341\n"
          ]
        }
      ]
    },
    {
      "cell_type": "markdown",
      "source": [
        "\n",
        "# What is the minimun $n$ for which the $n+1$-th term of the Taylor series for $sin(x)$ about $0$ (Maclaurin  series) for $x$, is in absolute value less than  $\\epsilon$.\n",
        "\n",
        "\n",
        "$$\\min_{n \\in \\mathbb{N}}\\left| (-1)^{n} \\frac{x^{1+2i}}{(1+2i)!} \\right| < \\epsilon$$"
      ],
      "metadata": {
        "id": "BT4VVwVTrrv6"
      }
    },
    {
      "cell_type": "code",
      "source": [
        "# Retunrs Min n, |(-1)^(i) * x^(1+2*i) / (1+2*i)!| < epsilon and ∑_{i=1}^{n+1}  (-1)^(i) * x^(1+2*i) / (1+2*i)!\n",
        "import math\n",
        "\n",
        "x = -0.5\n",
        "epsilon = 10**(-5)\n",
        "delta = 1\n",
        "sin_x = 0\n",
        "i = 0\n",
        "print(\"n\".rjust(10),\" \",\"∑_{i=1}^n  x^i/i!\".center(21),\" \",\"|x^n/n!|\".center(20),\" \",\"epsilon\".center(20))\n",
        "while  epsilon <= abs(delta):\n",
        "  delta = (-1)**(i) * ( x ** (1+2*i) ) / math.factorial( 1+2*i )\n",
        "  sin_x += delta\n",
        "  print(format(i, '10'),\"  \", format(sin_x, '.17f'),\"  \",format( abs(delta), '.17f'),\"  \",format(epsilon, '.17f')) \n",
        "  i = i+1\n",
        "print(\"n = \",i-1) \n",
        "print('x = ',x)\n",
        "print('sin_x ≈ ∑_{i=1}^'+str(i-1),'(-1)^(i) * x^(1+2*i) / (1+2*i)! =',sin_x)    \n",
        "print('math.sin(x) = ',math.sin(x))"
      ],
      "metadata": {
        "colab": {
          "base_uri": "https://localhost:8080/"
        },
        "id": "-XY3DKu_ruve",
        "outputId": "3079462f-1238-4a2d-9d83-5d3f8af1eb47"
      },
      "execution_count": null,
      "outputs": [
        {
          "output_type": "stream",
          "name": "stdout",
          "text": [
            "         n     ∑_{i=1}^n  x^i/i!           |x^n/n!|               epsilon       \n",
            "         0    -0.50000000000000000    0.50000000000000000    0.00001000000000000\n",
            "         1    -0.47916666666666669    0.02083333333333333    0.00001000000000000\n",
            "         2    -0.47942708333333334    0.00026041666666667    0.00001000000000000\n",
            "         3    -0.47942553323412701    0.00000155009920635    0.00001000000000000\n",
            "n =  3\n",
            "x =  -0.5\n",
            "sin_x ≈ ∑_{i=1}^3 (-1)^(i) * x^(1+2*i) / (1+2*i)! = -0.479425533234127\n",
            "math.sin(x) =  -0.479425538604203\n"
          ]
        }
      ]
    },
    {
      "cell_type": "code",
      "source": [
        "# Retunrs Min n, |(-1)^(i) * x^(1+2*i) / (1+2*i)!| < epsilon and ∑_{i=1}^{n+1}  (-1)^(i) * x^(1+2*i) / (1+2*i)!\n",
        "import math\n",
        "\n",
        "x = 0.5\n",
        "epsilon = 10**(-5)\n",
        "delta = 1\n",
        "sin_x = 0\n",
        "i = 0\n",
        "print(\"n\".rjust(10),\" \",\"∑_{i=1}^n  x^i/i!\".center(21),\" \",\"|x^n/n!|\".center(20),\" \",\"epsilon\".center(20))\n",
        "while  epsilon <= abs(delta):\n",
        "  delta = (-1)**(i) * ( x ** (1+2*i) ) / math.factorial( 1+2*i )\n",
        "  sin_x += delta\n",
        "  print(format(i, '10'),\"  \", format(sin_x, '.17f'),\"  \",format( abs(delta), '.17f'),\"  \",format(epsilon, '.17f')) \n",
        "  i = i+1\n",
        "print(\"n = \",i-1) \n",
        "print('x = ',x)\n",
        "print('sin_x ≈ ∑_{i=1}^'+str(i-1),'(-1)^(i) * x^(1+2*i) / (1+2*i)! =',sin_x)    \n",
        "print('math.sin(x) = ',math.sin(x))"
      ],
      "metadata": {
        "colab": {
          "base_uri": "https://localhost:8080/"
        },
        "id": "VcuZAxxVt6xq",
        "outputId": "f6cd0ee5-0158-4bcc-dfcd-b373fc498850"
      },
      "execution_count": null,
      "outputs": [
        {
          "output_type": "stream",
          "name": "stdout",
          "text": [
            "         n     ∑_{i=1}^n  x^i/i!           |x^n/n!|               epsilon       \n",
            "         0    0.50000000000000000    0.50000000000000000    0.00001000000000000\n",
            "         1    0.47916666666666669    0.02083333333333333    0.00001000000000000\n",
            "         2    0.47942708333333334    0.00026041666666667    0.00001000000000000\n",
            "         3    0.47942553323412701    0.00000155009920635    0.00001000000000000\n",
            "n =  3\n",
            "x =  0.5\n",
            "sin_x ≈ ∑_{i=1}^3 (-1)^(i) * x^(1+2*i) / (1+2*i)! = 0.479425533234127\n",
            "math.sin(x) =  0.479425538604203\n"
          ]
        }
      ]
    },
    {
      "cell_type": "markdown",
      "source": [
        "# Error using the Lagrange's formula of the Residual $E_n$\n",
        "\n",
        "* From: Numerical Analysis Mathematics of Scientific Computing David Kincaid and Ward Cheney\n",
        "\n",
        "For the Taylor series for $f(x) = sin(x)$ about $c=0$ (Maclaurin) $\n",
        "\n",
        "$$ E_n = \\frac{f^{(n+1)}(\\xi)}{(n+1)!}(x-c)^{(n+1)} = \\frac{\\pm sin(\\xi)}{(n+1)!} \\text{ or } \\frac{\\pm cos(\\xi)}{(n+1)!} \\le \\frac{1}{(n+1)!} $$"
      ],
      "metadata": {
        "id": "vyCZ4SrIKEd_"
      }
    },
    {
      "cell_type": "markdown",
      "source": [
        "What is the minimun $n$ for which the error using the Lagrange's formula of the Residual $E_n$ of the Taylos series for $sin(x)$ about $0$ (Maclaurin  series), is less than  $\\epsilon$.\n",
        "\n",
        "$$\\min_{n \\in \\mathbb{N}}\\left\\{ \\frac{1}{(n+1)!} \\right\\} < \\epsilon $$"
      ],
      "metadata": {
        "id": "nLYf2YjYKZFm"
      }
    },
    {
      "cell_type": "code",
      "source": [
        "import math\n",
        "\n",
        "x = 0.25\n",
        "epsilon = 10**(-10)\n",
        "sin_x = 0\n",
        "i = 0\n",
        "error = (-1)**(i) * ( x ** (1+2*i) ) / math.factorial( 1+2*i )\n",
        "print(\"n\".rjust(10),\" \",\"∑_{i=1}^n  x^i/i!\".center(21),\" \",\"error=e^x x^(n+1)/(n+1)!\".center(20),\" \",\"epsilon\".center(20))\n",
        "print(format(i, '10'),\"  \", format(sin_x, '.17f'),\"  \",format(error, '.17f'),\"  \",format(epsilon, '.17f'))\n",
        "while  epsilon <= abs(error):\n",
        "  sin_x += (-1)**(i) * ( x ** (1+2*i) ) / math.factorial( 1+2*i )\n",
        "  error = 1 / math.factorial( i+1 )\n",
        "  print(format(i, '10'),\"  \", format(sin_x, '.17f'),\"  \",format(error, '.17f'),\"  \",format(epsilon, '.17f')) \n",
        "  i = i+1\n",
        "print(\"n = \",i-1) \n",
        "print('x = ',x)\n",
        "print('sin_x ≈ ∑_{i=1}^'+str(i-1),'(-1)^i * x^(i+1) / (i+1) =',sin_x)    \n",
        "print('math.sin(x) = ',math.sin(x))"
      ],
      "metadata": {
        "colab": {
          "base_uri": "https://localhost:8080/"
        },
        "id": "dEV97fGQv0Cl",
        "outputId": "596c5893-a798-478e-ab45-298752d889b6"
      },
      "execution_count": null,
      "outputs": [
        {
          "output_type": "stream",
          "name": "stdout",
          "text": [
            "         n     ∑_{i=1}^n  x^i/i!     error=e^x x^(n+1)/(n+1)!         epsilon       \n",
            "         0    0.00000000000000000    0.25000000000000000    0.00000000010000000\n",
            "         0    0.25000000000000000    1.00000000000000000    0.00000000010000000\n",
            "         1    0.24739583333333334    0.50000000000000000    0.00000000010000000\n",
            "         2    0.24740397135416667    0.16666666666666666    0.00000000010000000\n",
            "         3    0.24740395924401662    0.04166666666666666    0.00000000010000000\n",
            "         4    0.24740395925452890    0.00833333333333333    0.00000000010000000\n",
            "         5    0.24740395925452294    0.00138888888888889    0.00000000010000000\n",
            "         6    0.24740395925452294    0.00019841269841270    0.00000000010000000\n",
            "         7    0.24740395925452294    0.00002480158730159    0.00000000010000000\n",
            "         8    0.24740395925452294    0.00000275573192240    0.00000000010000000\n",
            "         9    0.24740395925452294    0.00000027557319224    0.00000000010000000\n",
            "        10    0.24740395925452294    0.00000002505210839    0.00000000010000000\n",
            "        11    0.24740395925452294    0.00000000208767570    0.00000000010000000\n",
            "        12    0.24740395925452294    0.00000000016059044    0.00000000010000000\n",
            "        13    0.24740395925452294    0.00000000001147075    0.00000000010000000\n",
            "n =  13\n",
            "x =  0.25\n",
            "sin_x ≈ ∑_{i=1}^13 (-1)^i * x^(i+1) / (i+1) = 0.24740395925452294\n",
            "math.sin(x) =  0.24740395925452294\n"
          ]
        }
      ]
    },
    {
      "cell_type": "code",
      "source": [
        "import math\n",
        "\n",
        "x = -0.25\n",
        "epsilon = 10**(-10)\n",
        "sin_x = 0\n",
        "i = 0\n",
        "error = (-1)**(i) * ( x ** (1+2*i) ) / math.factorial( 1+2*i )\n",
        "print(\"n\".rjust(10),\" \",\"∑_{i=1}^n  x^i/i!\".center(21),\" \",\"error=e^x x^(n+1)/(n+1)!\".center(20),\" \",\"epsilon\".center(20))\n",
        "print(format(i, '10'),\"  \", format(sin_x, '.17f'),\"  \",format(error, '.17f'),\"  \",format(epsilon, '.17f'))\n",
        "while  epsilon <= abs(error):\n",
        "  sin_x += (-1)**(i) * ( x ** (1+2*i) ) / math.factorial( 1+2*i )\n",
        "  error = 1 / math.factorial( i+1 )\n",
        "  print(format(i, '10'),\"  \", format(sin_x, '.17f'),\"  \",format(error, '.17f'),\"  \",format(epsilon, '.17f')) \n",
        "  i = i+1\n",
        "print(\"n = \",i-1) \n",
        "print('x = ',x)\n",
        "print('sin_x ≈ ∑_{i=1}^'+str(i-1),'(-1)^i * x^(i+1) / (i+1) =',sin_x)    \n",
        "print('math.sin(x) = ',math.sin(x))"
      ],
      "metadata": {
        "colab": {
          "base_uri": "https://localhost:8080/"
        },
        "id": "yfjiS10LLvfm",
        "outputId": "175519d0-0211-4752-b6cf-f68784f72c9e"
      },
      "execution_count": null,
      "outputs": [
        {
          "output_type": "stream",
          "name": "stdout",
          "text": [
            "         n     ∑_{i=1}^n  x^i/i!     error=e^x x^(n+1)/(n+1)!         epsilon       \n",
            "         0    0.00000000000000000    -0.25000000000000000    0.00000000010000000\n",
            "         0    -0.25000000000000000    1.00000000000000000    0.00000000010000000\n",
            "         1    -0.24739583333333334    0.50000000000000000    0.00000000010000000\n",
            "         2    -0.24740397135416667    0.16666666666666666    0.00000000010000000\n",
            "         3    -0.24740395924401662    0.04166666666666666    0.00000000010000000\n",
            "         4    -0.24740395925452890    0.00833333333333333    0.00000000010000000\n",
            "         5    -0.24740395925452294    0.00138888888888889    0.00000000010000000\n",
            "         6    -0.24740395925452294    0.00019841269841270    0.00000000010000000\n",
            "         7    -0.24740395925452294    0.00002480158730159    0.00000000010000000\n",
            "         8    -0.24740395925452294    0.00000275573192240    0.00000000010000000\n",
            "         9    -0.24740395925452294    0.00000027557319224    0.00000000010000000\n",
            "        10    -0.24740395925452294    0.00000002505210839    0.00000000010000000\n",
            "        11    -0.24740395925452294    0.00000000208767570    0.00000000010000000\n",
            "        12    -0.24740395925452294    0.00000000016059044    0.00000000010000000\n",
            "        13    -0.24740395925452294    0.00000000001147075    0.00000000010000000\n",
            "n =  13\n",
            "x =  -0.25\n",
            "sin_x ≈ ∑_{i=1}^13 (-1)^i * x^(i+1) / (i+1) = -0.24740395925452294\n",
            "math.sin(x) =  -0.24740395925452294\n"
          ]
        }
      ]
    },
    {
      "cell_type": "markdown",
      "source": [
        "#Sympy\n",
        "Taylor Series Expansion with Python from Data Science Fabric\n",
        "\n",
        "https://dsfabric.org/taylor-series-expansion-with-python"
      ],
      "metadata": {
        "id": "tSTs1W4yP7-2"
      }
    },
    {
      "cell_type": "code",
      "source": [
        "from sympy import series, Symbol, pi, E\n",
        "from sympy.functions import sin\n",
        "from sympy.plotting import plot\n",
        "import matplotlib.pyplot as plt"
      ],
      "metadata": {
        "id": "0uSyLuUMP88N"
      },
      "execution_count": 2,
      "outputs": []
    },
    {
      "cell_type": "code",
      "source": [
        "# Define symbol\n",
        "x = Symbol('x')"
      ],
      "metadata": {
        "id": "GcWsQ9nFQBsv"
      },
      "execution_count": 3,
      "outputs": []
    },
    {
      "cell_type": "code",
      "source": [
        "# Function for Taylor Series Expansion\n",
        "\n",
        "def taylor(function, x0, n):\n",
        "    \"\"\"\n",
        "    Parameter \"function\" is our function which we want to approximate\n",
        "    \"x0\" is the point where to approximate\n",
        "    \"n\" is the order of approximation\n",
        "    \"\"\"\n",
        "    return function.series(x,x0,n)"
      ],
      "metadata": {
        "id": "Dirr9CcLQEe8"
      },
      "execution_count": 4,
      "outputs": []
    },
    {
      "cell_type": "code",
      "source": [
        "print('sin(x) ≅', taylor(sin(x), 0, 10))"
      ],
      "metadata": {
        "colab": {
          "base_uri": "https://localhost:8080/"
        },
        "id": "yb0YVCQzQJkN",
        "outputId": "a03ad3d9-9373-4832-9c9b-4c617420bc33"
      },
      "execution_count": 5,
      "outputs": [
        {
          "output_type": "stream",
          "name": "stdout",
          "text": [
            "sin(x) ≅ x - x**3/6 + x**5/120 - x**7/5040 + x**9/362880 + O(x**10)\n"
          ]
        }
      ]
    },
    {
      "cell_type": "code",
      "source": [
        "print('sin(x) ≅', taylor(sin(x), E, 8))"
      ],
      "metadata": {
        "colab": {
          "base_uri": "https://localhost:8080/"
        },
        "id": "GsKaT5AsQOo9",
        "outputId": "14798381-2447-405e-c5ce-85c517c83d60"
      },
      "execution_count": 6,
      "outputs": [
        {
          "output_type": "stream",
          "name": "stdout",
          "text": [
            "sin(x) ≅ sin(E) + (x - E)*cos(E) - (x - E)**2*sin(E)/2 - (x - E)**3*cos(E)/6 + (x - E)**4*sin(E)/24 + (x - E)**5*cos(E)/120 - (x - E)**6*sin(E)/720 - (x - E)**7*cos(E)/5040 + O((x - E)**8, (x, E))\n"
          ]
        }
      ]
    },
    {
      "cell_type": "code",
      "source": [
        "print('sin(x) =', taylor(sin(x), 0, 4).subs(x,1))"
      ],
      "metadata": {
        "colab": {
          "base_uri": "https://localhost:8080/"
        },
        "id": "doQiZb1NQTEG",
        "outputId": "34320eaf-d1b4-437c-89cc-1411a6e2208a"
      },
      "execution_count": 7,
      "outputs": [
        {
          "output_type": "stream",
          "name": "stdout",
          "text": [
            "sin(x) = O(1)\n"
          ]
        }
      ]
    },
    {
      "cell_type": "code",
      "source": [
        "# Function for Taylor Series Expansion\n",
        "\n",
        "def taylor(function, x0, n):\n",
        "    \"\"\"\n",
        "    Parameter \"function\" is our function which we want to approximate\n",
        "    \"x0\" is the point where to approximate\n",
        "    \"n\" is the order of approximation\n",
        "    \"\"\"\n",
        "    return function.series(x,x0,n).removeO()"
      ],
      "metadata": {
        "id": "1L0v0pKgap9T"
      },
      "execution_count": 8,
      "outputs": []
    },
    {
      "cell_type": "code",
      "source": [
        "print('sin(x) ≅', taylor(sin(x), 0, 10))"
      ],
      "metadata": {
        "colab": {
          "base_uri": "https://localhost:8080/"
        },
        "id": "htdyRi2FavKC",
        "outputId": "b9edb57d-424b-405c-9786-4601fad1a874"
      },
      "execution_count": 9,
      "outputs": [
        {
          "output_type": "stream",
          "name": "stdout",
          "text": [
            "sin(x) ≅ x**9/362880 - x**7/5040 + x**5/120 - x**3/6 + x\n"
          ]
        }
      ]
    },
    {
      "cell_type": "code",
      "source": [
        "print('sin(x) ≅', taylor(sin(x), E, 10))"
      ],
      "metadata": {
        "colab": {
          "base_uri": "https://localhost:8080/"
        },
        "id": "LZYfl4fEa4bi",
        "outputId": "1c6ce51b-3b6a-4734-b81d-a6f230f5933a"
      },
      "execution_count": 10,
      "outputs": [
        {
          "output_type": "stream",
          "name": "stdout",
          "text": [
            "sin(x) ≅ (x - E)**9*cos(E)/362880 + (x - E)**8*sin(E)/40320 - (x - E)**7*cos(E)/5040 - (x - E)**6*sin(E)/720 + (x - E)**5*cos(E)/120 + (x - E)**4*sin(E)/24 - (x - E)**3*cos(E)/6 - (x - E)**2*sin(E)/2 + (x - E)*cos(E) + sin(E)\n"
          ]
        }
      ]
    },
    {
      "cell_type": "code",
      "source": [
        "print('sin(x) =', taylor(sin(x), 0, 10).subs(x,1))"
      ],
      "metadata": {
        "colab": {
          "base_uri": "https://localhost:8080/"
        },
        "id": "xqjsU190a-uc",
        "outputId": "3242f8a3-db8b-451e-a0d5-2d29efc2c6f4"
      },
      "execution_count": 11,
      "outputs": [
        {
          "output_type": "stream",
          "name": "stdout",
          "text": [
            "sin(x) = 305353/362880\n"
          ]
        }
      ]
    },
    {
      "cell_type": "code",
      "source": [
        "print('Taylor 0 sin(x) ≅', taylor(sin(x), 0, 0))\n",
        "print('Taylor 1 sin(x) ≅', taylor(sin(x), 0, 1))\n",
        "print('Taylor 2 sin(x) ≅', taylor(sin(x), 0, 2))\n",
        "print('Taylor 3 sin(x) ≅', taylor(sin(x), 0, 3))\n",
        "print('Taylor 4 sin(x) ≅', taylor(sin(x), 0, 4))\n",
        "print('Taylor 5 sin(x) ≅', taylor(sin(x), 0, 5))\n",
        "print('Taylor 6 sin(x) ≅', taylor(sin(x), 0, 6))\n",
        "print('Taylor 7 sin(x) ≅', taylor(sin(x), 0, 7))\n",
        "print('Taylor 8 sin(x) ≅', taylor(sin(x), 0, 8))\n",
        "print('Taylor 9 sin(x) ≅', taylor(sin(x), 0, 9))\n",
        "print('Taylor 10 sin(x) ≅', taylor(sin(x), 0, 10))"
      ],
      "metadata": {
        "colab": {
          "base_uri": "https://localhost:8080/"
        },
        "id": "bTxSFXHkQXMQ",
        "outputId": "5a30d84c-5911-4448-f61c-5ea87dfec317"
      },
      "execution_count": 12,
      "outputs": [
        {
          "output_type": "stream",
          "name": "stdout",
          "text": [
            "Taylor 0 sin(x) ≅ 0\n",
            "Taylor 1 sin(x) ≅ 0\n",
            "Taylor 2 sin(x) ≅ x\n",
            "Taylor 3 sin(x) ≅ x\n",
            "Taylor 4 sin(x) ≅ -x**3/6 + x\n",
            "Taylor 5 sin(x) ≅ -x**3/6 + x\n",
            "Taylor 6 sin(x) ≅ x**5/120 - x**3/6 + x\n",
            "Taylor 7 sin(x) ≅ x**5/120 - x**3/6 + x\n",
            "Taylor 8 sin(x) ≅ -x**7/5040 + x**5/120 - x**3/6 + x\n",
            "Taylor 9 sin(x) ≅ -x**7/5040 + x**5/120 - x**3/6 + x\n",
            "Taylor 10 sin(x) ≅ x**9/362880 - x**7/5040 + x**5/120 - x**3/6 + x\n"
          ]
        }
      ]
    },
    {
      "cell_type": "code",
      "source": [
        "print('Taylor 0 sin(x) ≅', taylor(sin(x), 0, 0).subs(x,1))\n",
        "print('Taylor 1 sin(x) ≅', taylor(sin(x), 0, 1).subs(x,1))\n",
        "print('Taylor 2 sin(x) ≅', taylor(sin(x), 0, 2).subs(x,1))\n",
        "print('Taylor 3 sin(x) ≅', taylor(sin(x), 0, 3).subs(x,1))\n",
        "print('Taylor 4 sin(x) ≅', taylor(sin(x), 0, 4).subs(x,1))\n",
        "print('Taylor 5 sin(x) ≅', taylor(sin(x), 0, 5).subs(x,1))\n",
        "print('Taylor 6 sin(x) ≅', taylor(sin(x), 0, 6).subs(x,1))\n",
        "print('Taylor 7 sin(x) ≅', taylor(sin(x), 0, 7).subs(x,1))\n",
        "print('Taylor 8 sin(x) ≅', taylor(sin(x), 0, 8).subs(x,1))\n",
        "print('Taylor 9 sin(x) ≅', taylor(sin(x), 0, 9).subs(x,1))\n",
        "print('Taylor 10 sin(x) ≅', taylor(sin(x), 0, 10).subs(x,1))"
      ],
      "metadata": {
        "colab": {
          "base_uri": "https://localhost:8080/"
        },
        "id": "j2D1N-itZdrL",
        "outputId": "cb5dd0d5-ae6c-43e3-8d74-1cfd169d2743"
      },
      "execution_count": 13,
      "outputs": [
        {
          "output_type": "stream",
          "name": "stdout",
          "text": [
            "Taylor 0 sin(x) ≅ 0\n",
            "Taylor 1 sin(x) ≅ 0\n",
            "Taylor 2 sin(x) ≅ 1\n",
            "Taylor 3 sin(x) ≅ 1\n",
            "Taylor 4 sin(x) ≅ 5/6\n",
            "Taylor 5 sin(x) ≅ 5/6\n",
            "Taylor 6 sin(x) ≅ 101/120\n",
            "Taylor 7 sin(x) ≅ 101/120\n",
            "Taylor 8 sin(x) ≅ 4241/5040\n",
            "Taylor 9 sin(x) ≅ 4241/5040\n",
            "Taylor 10 sin(x) ≅ 305353/362880\n"
          ]
        }
      ]
    },
    {
      "cell_type": "code",
      "source": [
        "print('Taylor 0 sin(x) ≅', taylor(sin(x), 0, 0).subs(x,1).evalf())\n",
        "print('Taylor 1 sin(x) ≅', taylor(sin(x), 0, 1).subs(x,1).evalf())\n",
        "print('Taylor 2 sin(x) ≅', taylor(sin(x), 0, 2).subs(x,1).evalf())\n",
        "print('Taylor 3 sin(x) ≅', taylor(sin(x), 0, 3).subs(x,1).evalf())\n",
        "print('Taylor 4 sin(x) ≅', taylor(sin(x), 0, 4).subs(x,1).evalf())\n",
        "print('Taylor 5 sin(x) ≅', taylor(sin(x), 0, 5).subs(x,1).evalf())\n",
        "print('Taylor 6 sin(x) ≅', taylor(sin(x), 0, 6).subs(x,1).evalf())\n",
        "print('Taylor 7 sin(x) ≅', taylor(sin(x), 0, 7).subs(x,1).evalf())\n",
        "print('Taylor 8 sin(x) ≅', taylor(sin(x), 0, 8).subs(x,1).evalf())\n",
        "print('Taylor 9 sin(x) ≅', taylor(sin(x), 0, 9).subs(x,1).evalf())\n",
        "print('Taylor 10 sin(x) ≅', taylor(sin(x), 0, 10).subs(x,1).evalf())"
      ],
      "metadata": {
        "colab": {
          "base_uri": "https://localhost:8080/"
        },
        "id": "2z3QeGhYQoO2",
        "outputId": "48b67b04-a495-4279-c2c8-1f6025be85d9"
      },
      "execution_count": 14,
      "outputs": [
        {
          "output_type": "stream",
          "name": "stdout",
          "text": [
            "Taylor 0 sin(x) ≅ 0\n",
            "Taylor 1 sin(x) ≅ 0\n",
            "Taylor 2 sin(x) ≅ 1.00000000000000\n",
            "Taylor 3 sin(x) ≅ 1.00000000000000\n",
            "Taylor 4 sin(x) ≅ 0.833333333333333\n",
            "Taylor 5 sin(x) ≅ 0.833333333333333\n",
            "Taylor 6 sin(x) ≅ 0.841666666666667\n",
            "Taylor 7 sin(x) ≅ 0.841666666666667\n",
            "Taylor 8 sin(x) ≅ 0.841468253968254\n",
            "Taylor 9 sin(x) ≅ 0.841468253968254\n",
            "Taylor 10 sin(x) ≅ 0.841471009700176\n"
          ]
        }
      ]
    },
    {
      "cell_type": "code",
      "source": [
        "import math\n",
        "import numpy as np\n",
        "import matplotlib.pyplot as plt\n",
        "# if using a Jupyter notebook, include:\n",
        "%matplotlib inline\n",
        "\n",
        "values = np.arange(-5,5,0.1)\n",
        "p_exp = np.sin(values)\n",
        "t_exp1 = [taylor(sin(x), 0, 1).subs(x,v) for v in values]\n",
        "legends = ['sin(x) ','Taylor 0 (constant)']\n",
        "\n",
        "fig, ax = plt.subplots()\n",
        "ax.plot(values,p_exp, color ='green')\n",
        "ax.plot(values,t_exp1)\n",
        "\n",
        "ax.set_ylim([-2,2])\n",
        "ax.axhline(y=0.0, xmin=-5.0, xmax=5.0, color='black')\n",
        "ax.axvline(x=0.0, ymin=-10.0, ymax=10.0, color='black')\n",
        "ax.legend(legends)\n",
        "\n",
        "plt.show()"
      ],
      "metadata": {
        "colab": {
          "base_uri": "https://localhost:8080/",
          "height": 269
        },
        "id": "ixqNMVTsRxje",
        "outputId": "64ae5962-a520-4e3a-8c6c-affde0d1ab6f"
      },
      "execution_count": 17,
      "outputs": [
        {
          "output_type": "display_data",
          "data": {
            "text/plain": [
              "<Figure size 432x288 with 1 Axes>"
            ],
            "image/png": "[encoded data removed]"
          },
          "metadata": {
            "needs_background": "light"
          }
        }
      ]
    },
    {
      "cell_type": "code",
      "source": [
        "import math\n",
        "import numpy as np\n",
        "import matplotlib.pyplot as plt\n",
        "# if using a Jupyter notebook, include:\n",
        "%matplotlib inline\n",
        "\n",
        "values = np.arange(-5,5,0.1)\n",
        "p_exp = np.sin(values)\n",
        "t_exp2 = [taylor(sin(x), 0, 2).subs(x,v) for v in values]\n",
        "legends = ['sin(x) ','Taylor 1 (linear)']\n",
        "\n",
        "fig, ax = plt.subplots()\n",
        "ax.plot(values,p_exp, color ='green')\n",
        "ax.plot(values,t_exp2)\n",
        "\n",
        "ax.set_ylim([-2,2])\n",
        "ax.axhline(y=0.0, xmin=-5.0, xmax=5.0, color='black')\n",
        "ax.axvline(x=0.0, ymin=-10.0, ymax=10.0, color='black')\n",
        "ax.legend(legends)\n",
        "\n",
        "plt.show()"
      ],
      "metadata": {
        "colab": {
          "base_uri": "https://localhost:8080/",
          "height": 269
        },
        "id": "bC62bzT5dGRz",
        "outputId": "5d9753fd-7c64-4dd0-9b46-9c25db14f8ee"
      },
      "execution_count": 19,
      "outputs": [
        {
          "output_type": "display_data",
          "data": {
            "text/plain": [
              "<Figure size 432x288 with 1 Axes>"
            ],
            "image/png": "[encoded data removed]"
          },
          "metadata": {
            "needs_background": "light"
          }
        }
      ]
    },
    {
      "cell_type": "code",
      "source": [
        "import math\n",
        "import numpy as np\n",
        "import matplotlib.pyplot as plt\n",
        "# if using a Jupyter notebook, include:\n",
        "%matplotlib inline\n",
        "\n",
        "values = np.arange(-5,5,0.1)\n",
        "p_exp = np.sin(values)\n",
        "t_exp2 = [taylor(sin(x), 0, 3).subs(x,v) for v in values]\n",
        "legends = ['sin(x) ','Taylor 2 (quadratic)']\n",
        "\n",
        "fig, ax = plt.subplots()\n",
        "ax.plot(values,p_exp, color ='green')\n",
        "ax.plot(values,t_exp2)\n",
        "\n",
        "ax.set_ylim([-2,2])\n",
        "ax.axhline(y=0.0, xmin=-5.0, xmax=5.0, color='black')\n",
        "ax.axvline(x=0.0, ymin=-10.0, ymax=10.0, color='black')\n",
        "ax.legend(legends)\n",
        "\n",
        "plt.show()"
      ],
      "metadata": {
        "colab": {
          "base_uri": "https://localhost:8080/",
          "height": 269
        },
        "id": "rOCNpkQPdhlW",
        "outputId": "285e0519-187d-4cdd-8754-cd9758198bc4"
      },
      "execution_count": 21,
      "outputs": [
        {
          "output_type": "display_data",
          "data": {
            "text/plain": [
              "<Figure size 432x288 with 1 Axes>"
            ],
            "image/png": "[encoded data removed]"
          },
          "metadata": {
            "needs_background": "light"
          }
        }
      ]
    },
    {
      "cell_type": "code",
      "source": [
        "import math\n",
        "import numpy as np\n",
        "import matplotlib.pyplot as plt\n",
        "# if using a Jupyter notebook, include:\n",
        "%matplotlib inline\n",
        "\n",
        "values = np.arange(-5,5,0.1)\n",
        "p_exp = np.sin(values)\n",
        "t_exp2 = [taylor(sin(x), 0, 4).subs(x,v) for v in values]\n",
        "legends = ['sin(x) ','Taylor 3 (cubic)']\n",
        "\n",
        "fig, ax = plt.subplots()\n",
        "ax.plot(values,p_exp, color ='green')\n",
        "ax.plot(values,t_exp2)\n",
        "\n",
        "ax.set_ylim([-2,2])\n",
        "ax.axhline(y=0.0, xmin=-5.0, xmax=5.0, color='black')\n",
        "ax.axvline(x=0.0, ymin=-10.0, ymax=10.0, color='black')\n",
        "ax.legend(legends)\n",
        "\n",
        "plt.show()"
      ],
      "metadata": {
        "colab": {
          "base_uri": "https://localhost:8080/",
          "height": 269
        },
        "id": "oQ5Y-0aOd7-K",
        "outputId": "f0d33e10-cd25-4f54-da34-69264d8f6a6a"
      },
      "execution_count": 23,
      "outputs": [
        {
          "output_type": "display_data",
          "data": {
            "text/plain": [
              "<Figure size 432x288 with 1 Axes>"
            ],
            "image/png": "[encoded data removed]"
          },
          "metadata": {
            "needs_background": "light"
          }
        }
      ]
    },
    {
      "cell_type": "code",
      "source": [],
      "metadata": {
        "id": "xeAXI8OSkNkJ"
      },
      "execution_count": null,
      "outputs": []
    },
    {
      "cell_type": "code",
      "source": [],
      "metadata": {
        "id": "uC7LRbV_kNPj"
      },
      "execution_count": null,
      "outputs": []
    },
    {
      "cell_type": "code",
      "source": [
        "import math\n",
        "import numpy as np\n",
        "import matplotlib.pyplot as plt\n",
        "# if using a Jupyter notebook, include:\n",
        "%matplotlib inline\n",
        "   \n",
        "\n",
        "values = np.arange(-5, 5, 0.1)\n",
        "p_exp = np.sin(values)\n",
        "t_exp1 = [taylor(sin(x), 0, 1).subs(x,v) for v in values]\n",
        "t_exp2 = [taylor(sin(x), 0, 2).subs(x,v) for v in values]\n",
        "t_exp3 = [taylor(sin(x), 0, 3).subs(x,v) for v in values]\n",
        "t_exp4 = [taylor(sin(x), 0, 4).subs(x,v) for v in values]\n",
        "\n",
        "legends = ['log(x+1) ','Taylor 0 (constant)','Taylor 1 (linear)','Taylor 2 (quadratic)','Taylor 3 (cubic)']\n",
        "\n",
        "\n",
        "fig, ax = plt.subplots()\n",
        "ax.plot(values,p_exp)\n",
        "ax.plot(values,t_exp1)\n",
        "ax.plot(values,t_exp2)\n",
        "ax.plot(values,t_exp3)\n",
        "ax.plot(values,t_exp4)\n",
        "\n",
        "ax.set_ylim([-2,2])\n",
        "ax.axhline(y=0.0, xmin=-5.0, xmax=5.0, color='black')\n",
        "ax.axvline(x=0.0, ymin=-10.0, ymax=10.0, color='black')\n",
        "ax.legend(legends)\n",
        "\n",
        "plt.show()"
      ],
      "metadata": {
        "colab": {
          "base_uri": "https://localhost:8080/",
          "height": 269
        },
        "id": "3OBsaUMFeBrx",
        "outputId": "33b5a4f3-05f3-4a07-9297-2270659396b6"
      },
      "execution_count": 26,
      "outputs": [
        {
          "output_type": "display_data",
          "data": {
            "text/plain": [
              "<Figure size 432x288 with 1 Axes>"
            ],
            "image/png": "[encoded data removed]"
          },
          "metadata": {
            "needs_background": "light"
          }
        }
      ]
    }
  ]
}